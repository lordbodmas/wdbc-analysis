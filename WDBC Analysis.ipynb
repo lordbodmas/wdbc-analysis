{
 "cells": [
  {
   "cell_type": "markdown",
   "metadata": {},
   "source": [
    "# TODO\n",
    "\n",
    "1. Identify what distribution the data has\n",
    "2. finish training and evaluating teh classifiers. add why recall is important\n",
    "\n",
    "# ===================="
   ]
  },
  {
   "cell_type": "markdown",
   "metadata": {},
   "source": [
    "# Analysis and development of a statistical model for the WDBC dataset\n",
    "\n",
    "The WDBC dataset is the follow up data for cases of breast cancer. The full description of the data can be found [here](https://archive.ics.uci.edu/ml/machine-learning-databases/breast-cancer-wisconsin/wdbc.names). In summary, each row represents a single follow up, there are 34 columns of which one is the ID, one is the outcome of the case and the other 32 are real-valued features. We expect 569 data records.\n",
    "\n",
    "In this notebook, we shall explore the data and train and compare a couple of simple classifers."
   ]
  },
  {
   "cell_type": "code",
   "execution_count": 1,
   "metadata": {},
   "outputs": [],
   "source": [
    "# we shall rely on numpy at a few instances throughout the notebook, so let us set the random seed.\n",
    "import numpy as np\n",
    "\n",
    "RANDOM_STATE = 10001\n",
    "np.random.seed = RANDOM_STATE\n",
    "\n",
    "from pprint import pprint as pp\n",
    "\n",
    "import pandas as pd\n",
    "\n",
    "from time import time\n",
    "\n",
    "from sklearn.linear_model import LogisticRegression\n",
    "from sklearn.ensemble import RandomForestClassifier\n",
    "from sklearn.model_selection import cross_val_score, GridSearchCV\n",
    "from sklearn.metrics import recall_score\n",
    "\n",
    "import matplotlib.pyplot as plt\n",
    "%matplotlib inline\n",
    "\n",
    "import seaborn as sns"
   ]
  },
  {
   "cell_type": "code",
   "execution_count": 2,
   "metadata": {},
   "outputs": [],
   "source": [
    "# single data loaded function. Assume 1 record per line\n",
    "def load_data(fp, delimiter=','):\n",
    "    with open(fp, 'r') as fin:\n",
    "        rows = [line.replace('\\n', '').split(delimiter) for line in fin.readlines() if line]\n",
    "        print('{} rows of data loaded'.format(len(rows)))\n",
    "        return rows\n",
    "        "
   ]
  },
  {
   "cell_type": "code",
   "execution_count": 3,
   "metadata": {},
   "outputs": [
    {
     "name": "stdout",
     "output_type": "stream",
     "text": [
      "569 rows of data loaded\n"
     ]
    }
   ],
   "source": [
    "data = load_data('./data/wdbc.data')"
   ]
  },
  {
   "cell_type": "markdown",
   "metadata": {},
   "source": [
    "    On load, there are 569 rows which is what we expected. However, this suggests no header row. Let us print the first row to confirm this."
   ]
  },
  {
   "cell_type": "code",
   "execution_count": 4,
   "metadata": {},
   "outputs": [
    {
     "name": "stdout",
     "output_type": "stream",
     "text": [
      "['842302', 'M', '17.99', '10.38', '122.8', '1001', '0.1184', '0.2776', '0.3001', '0.1471', '0.2419', '0.07871', '1.095', '0.9053', '8.589', '153.4', '0.006399', '0.04904', '0.05373', '0.01587', '0.03003', '0.006193', '25.38', '17.33', '184.6', '2019', '0.1622', '0.6656', '0.7119', '0.2654', '0.4601', '0.1189']\n"
     ]
    }
   ],
   "source": [
    "print(data[0])"
   ]
  },
  {
   "cell_type": "markdown",
   "metadata": {},
   "source": [
    "    Luckily, the data decription tells us that are 10 actual features each having a column for: mean, standard error and \"worst\" (or largest). \n",
    "    \n",
    "    Rather than working with multi-dim arrays, let us convert the data to a DataFrame using pandas to allow us to set the columns and perform aggregations on the data easier."
   ]
  },
  {
   "cell_type": "code",
   "execution_count": 5,
   "metadata": {},
   "outputs": [
    {
     "data": {
      "text/html": [
       "<div>\n",
       "<style scoped>\n",
       "    .dataframe tbody tr th:only-of-type {\n",
       "        vertical-align: middle;\n",
       "    }\n",
       "\n",
       "    .dataframe tbody tr th {\n",
       "        vertical-align: top;\n",
       "    }\n",
       "\n",
       "    .dataframe thead th {\n",
       "        text-align: right;\n",
       "    }\n",
       "</style>\n",
       "<table border=\"1\" class=\"dataframe\">\n",
       "  <thead>\n",
       "    <tr style=\"text-align: right;\">\n",
       "      <th></th>\n",
       "      <th>0</th>\n",
       "      <th>1</th>\n",
       "      <th>2</th>\n",
       "      <th>3</th>\n",
       "      <th>4</th>\n",
       "      <th>5</th>\n",
       "      <th>6</th>\n",
       "      <th>7</th>\n",
       "      <th>8</th>\n",
       "      <th>9</th>\n",
       "      <th>...</th>\n",
       "      <th>22</th>\n",
       "      <th>23</th>\n",
       "      <th>24</th>\n",
       "      <th>25</th>\n",
       "      <th>26</th>\n",
       "      <th>27</th>\n",
       "      <th>28</th>\n",
       "      <th>29</th>\n",
       "      <th>30</th>\n",
       "      <th>31</th>\n",
       "    </tr>\n",
       "  </thead>\n",
       "  <tbody>\n",
       "    <tr>\n",
       "      <th>0</th>\n",
       "      <td>842302</td>\n",
       "      <td>M</td>\n",
       "      <td>17.99</td>\n",
       "      <td>10.38</td>\n",
       "      <td>122.8</td>\n",
       "      <td>1001</td>\n",
       "      <td>0.1184</td>\n",
       "      <td>0.2776</td>\n",
       "      <td>0.3001</td>\n",
       "      <td>0.1471</td>\n",
       "      <td>...</td>\n",
       "      <td>25.38</td>\n",
       "      <td>17.33</td>\n",
       "      <td>184.6</td>\n",
       "      <td>2019</td>\n",
       "      <td>0.1622</td>\n",
       "      <td>0.6656</td>\n",
       "      <td>0.7119</td>\n",
       "      <td>0.2654</td>\n",
       "      <td>0.4601</td>\n",
       "      <td>0.1189</td>\n",
       "    </tr>\n",
       "    <tr>\n",
       "      <th>1</th>\n",
       "      <td>842517</td>\n",
       "      <td>M</td>\n",
       "      <td>20.57</td>\n",
       "      <td>17.77</td>\n",
       "      <td>132.9</td>\n",
       "      <td>1326</td>\n",
       "      <td>0.08474</td>\n",
       "      <td>0.07864</td>\n",
       "      <td>0.0869</td>\n",
       "      <td>0.07017</td>\n",
       "      <td>...</td>\n",
       "      <td>24.99</td>\n",
       "      <td>23.41</td>\n",
       "      <td>158.8</td>\n",
       "      <td>1956</td>\n",
       "      <td>0.1238</td>\n",
       "      <td>0.1866</td>\n",
       "      <td>0.2416</td>\n",
       "      <td>0.186</td>\n",
       "      <td>0.275</td>\n",
       "      <td>0.08902</td>\n",
       "    </tr>\n",
       "    <tr>\n",
       "      <th>2</th>\n",
       "      <td>84300903</td>\n",
       "      <td>M</td>\n",
       "      <td>19.69</td>\n",
       "      <td>21.25</td>\n",
       "      <td>130</td>\n",
       "      <td>1203</td>\n",
       "      <td>0.1096</td>\n",
       "      <td>0.1599</td>\n",
       "      <td>0.1974</td>\n",
       "      <td>0.1279</td>\n",
       "      <td>...</td>\n",
       "      <td>23.57</td>\n",
       "      <td>25.53</td>\n",
       "      <td>152.5</td>\n",
       "      <td>1709</td>\n",
       "      <td>0.1444</td>\n",
       "      <td>0.4245</td>\n",
       "      <td>0.4504</td>\n",
       "      <td>0.243</td>\n",
       "      <td>0.3613</td>\n",
       "      <td>0.08758</td>\n",
       "    </tr>\n",
       "    <tr>\n",
       "      <th>3</th>\n",
       "      <td>84348301</td>\n",
       "      <td>M</td>\n",
       "      <td>11.42</td>\n",
       "      <td>20.38</td>\n",
       "      <td>77.58</td>\n",
       "      <td>386.1</td>\n",
       "      <td>0.1425</td>\n",
       "      <td>0.2839</td>\n",
       "      <td>0.2414</td>\n",
       "      <td>0.1052</td>\n",
       "      <td>...</td>\n",
       "      <td>14.91</td>\n",
       "      <td>26.5</td>\n",
       "      <td>98.87</td>\n",
       "      <td>567.7</td>\n",
       "      <td>0.2098</td>\n",
       "      <td>0.8663</td>\n",
       "      <td>0.6869</td>\n",
       "      <td>0.2575</td>\n",
       "      <td>0.6638</td>\n",
       "      <td>0.173</td>\n",
       "    </tr>\n",
       "    <tr>\n",
       "      <th>4</th>\n",
       "      <td>84358402</td>\n",
       "      <td>M</td>\n",
       "      <td>20.29</td>\n",
       "      <td>14.34</td>\n",
       "      <td>135.1</td>\n",
       "      <td>1297</td>\n",
       "      <td>0.1003</td>\n",
       "      <td>0.1328</td>\n",
       "      <td>0.198</td>\n",
       "      <td>0.1043</td>\n",
       "      <td>...</td>\n",
       "      <td>22.54</td>\n",
       "      <td>16.67</td>\n",
       "      <td>152.2</td>\n",
       "      <td>1575</td>\n",
       "      <td>0.1374</td>\n",
       "      <td>0.205</td>\n",
       "      <td>0.4</td>\n",
       "      <td>0.1625</td>\n",
       "      <td>0.2364</td>\n",
       "      <td>0.07678</td>\n",
       "    </tr>\n",
       "  </tbody>\n",
       "</table>\n",
       "<p>5 rows × 32 columns</p>\n",
       "</div>"
      ],
      "text/plain": [
       "         0  1      2      3      4      5        6        7       8        9   \\\n",
       "0    842302  M  17.99  10.38  122.8   1001   0.1184   0.2776  0.3001   0.1471   \n",
       "1    842517  M  20.57  17.77  132.9   1326  0.08474  0.07864  0.0869  0.07017   \n",
       "2  84300903  M  19.69  21.25    130   1203   0.1096   0.1599  0.1974   0.1279   \n",
       "3  84348301  M  11.42  20.38  77.58  386.1   0.1425   0.2839  0.2414   0.1052   \n",
       "4  84358402  M  20.29  14.34  135.1   1297   0.1003   0.1328   0.198   0.1043   \n",
       "\n",
       "   ...     22     23     24     25      26      27      28      29      30  \\\n",
       "0  ...  25.38  17.33  184.6   2019  0.1622  0.6656  0.7119  0.2654  0.4601   \n",
       "1  ...  24.99  23.41  158.8   1956  0.1238  0.1866  0.2416   0.186   0.275   \n",
       "2  ...  23.57  25.53  152.5   1709  0.1444  0.4245  0.4504   0.243  0.3613   \n",
       "3  ...  14.91   26.5  98.87  567.7  0.2098  0.8663  0.6869  0.2575  0.6638   \n",
       "4  ...  22.54  16.67  152.2   1575  0.1374   0.205     0.4  0.1625  0.2364   \n",
       "\n",
       "        31  \n",
       "0   0.1189  \n",
       "1  0.08902  \n",
       "2  0.08758  \n",
       "3    0.173  \n",
       "4  0.07678  \n",
       "\n",
       "[5 rows x 32 columns]"
      ]
     },
     "execution_count": 5,
     "metadata": {},
     "output_type": "execute_result"
    }
   ],
   "source": [
    "df = pd.DataFrame(data)\n",
    "df.head() # print the first 5 rows"
   ]
  },
  {
   "cell_type": "code",
   "execution_count": 6,
   "metadata": {},
   "outputs": [],
   "source": [
    "# let us create a little helper function to create the column names array\n",
    "def create_column_names(features, cols_per_feature,):\n",
    "    assert features and cols_per_feature\n",
    "    columns = []\n",
    "    for col in cols_per_feature:\n",
    "        columns.extend([feature + '-' + col for feature in features])\n",
    "    return columns"
   ]
  },
  {
   "cell_type": "markdown",
   "metadata": {},
   "source": [
    "    The feature names from the data description are:\n",
    "    \n",
    "    Ten real-valued features are computed for each cell nucleus:\n",
    "        a) radius (mean of distances from center to points on the perimeter)\n",
    "        b) texture (standard deviation of gray-scale values)\n",
    "        c) perimeter\n",
    "        d) area\n",
    "        e) smoothness (local variation in radius lengths)\n",
    "        f) compactness (perimeter^2 / area - 1.0)\n",
    "        g) concavity (severity of concave portions of the contour)\n",
    "        h) concave points (number of concave portions of the contour)\n",
    "        i) symmetry \n",
    "        j) fractal dimension (\"coastline approximation\" - 1)"
   ]
  },
  {
   "cell_type": "code",
   "execution_count": 7,
   "metadata": {},
   "outputs": [
    {
     "name": "stdout",
     "output_type": "stream",
     "text": [
      "['id', 'diagnosis', 'radius-mean', 'texture-mean', 'perimeter-mean', 'area-mean', 'smoothness-mean', 'compactness-mean', 'concavity-mean', 'concave-points-mean', 'symmetry-mean', 'fractal-dim-mean', 'radius-std-err', 'texture-std-err', 'perimeter-std-err', 'area-std-err', 'smoothness-std-err', 'compactness-std-err', 'concavity-std-err', 'concave-points-std-err', 'symmetry-std-err', 'fractal-dim-std-err', 'radius-largest', 'texture-largest', 'perimeter-largest', 'area-largest', 'smoothness-largest', 'compactness-largest', 'concavity-largest', 'concave-points-largest', 'symmetry-largest', 'fractal-dim-largest']\n"
     ]
    },
    {
     "data": {
      "text/html": [
       "<div>\n",
       "<style scoped>\n",
       "    .dataframe tbody tr th:only-of-type {\n",
       "        vertical-align: middle;\n",
       "    }\n",
       "\n",
       "    .dataframe tbody tr th {\n",
       "        vertical-align: top;\n",
       "    }\n",
       "\n",
       "    .dataframe thead th {\n",
       "        text-align: right;\n",
       "    }\n",
       "</style>\n",
       "<table border=\"1\" class=\"dataframe\">\n",
       "  <thead>\n",
       "    <tr style=\"text-align: right;\">\n",
       "      <th></th>\n",
       "      <th>diagnosis</th>\n",
       "      <th>radius-mean</th>\n",
       "      <th>texture-mean</th>\n",
       "      <th>perimeter-mean</th>\n",
       "      <th>area-mean</th>\n",
       "      <th>smoothness-mean</th>\n",
       "      <th>compactness-mean</th>\n",
       "      <th>concavity-mean</th>\n",
       "      <th>concave-points-mean</th>\n",
       "      <th>symmetry-mean</th>\n",
       "      <th>...</th>\n",
       "      <th>radius-largest</th>\n",
       "      <th>texture-largest</th>\n",
       "      <th>perimeter-largest</th>\n",
       "      <th>area-largest</th>\n",
       "      <th>smoothness-largest</th>\n",
       "      <th>compactness-largest</th>\n",
       "      <th>concavity-largest</th>\n",
       "      <th>concave-points-largest</th>\n",
       "      <th>symmetry-largest</th>\n",
       "      <th>fractal-dim-largest</th>\n",
       "    </tr>\n",
       "    <tr>\n",
       "      <th>id</th>\n",
       "      <th></th>\n",
       "      <th></th>\n",
       "      <th></th>\n",
       "      <th></th>\n",
       "      <th></th>\n",
       "      <th></th>\n",
       "      <th></th>\n",
       "      <th></th>\n",
       "      <th></th>\n",
       "      <th></th>\n",
       "      <th></th>\n",
       "      <th></th>\n",
       "      <th></th>\n",
       "      <th></th>\n",
       "      <th></th>\n",
       "      <th></th>\n",
       "      <th></th>\n",
       "      <th></th>\n",
       "      <th></th>\n",
       "      <th></th>\n",
       "      <th></th>\n",
       "    </tr>\n",
       "  </thead>\n",
       "  <tbody>\n",
       "    <tr>\n",
       "      <th>842302</th>\n",
       "      <td>M</td>\n",
       "      <td>17.99</td>\n",
       "      <td>10.38</td>\n",
       "      <td>122.8</td>\n",
       "      <td>1001</td>\n",
       "      <td>0.1184</td>\n",
       "      <td>0.2776</td>\n",
       "      <td>0.3001</td>\n",
       "      <td>0.1471</td>\n",
       "      <td>0.2419</td>\n",
       "      <td>...</td>\n",
       "      <td>25.38</td>\n",
       "      <td>17.33</td>\n",
       "      <td>184.6</td>\n",
       "      <td>2019</td>\n",
       "      <td>0.1622</td>\n",
       "      <td>0.6656</td>\n",
       "      <td>0.7119</td>\n",
       "      <td>0.2654</td>\n",
       "      <td>0.4601</td>\n",
       "      <td>0.1189</td>\n",
       "    </tr>\n",
       "    <tr>\n",
       "      <th>842517</th>\n",
       "      <td>M</td>\n",
       "      <td>20.57</td>\n",
       "      <td>17.77</td>\n",
       "      <td>132.9</td>\n",
       "      <td>1326</td>\n",
       "      <td>0.08474</td>\n",
       "      <td>0.07864</td>\n",
       "      <td>0.0869</td>\n",
       "      <td>0.07017</td>\n",
       "      <td>0.1812</td>\n",
       "      <td>...</td>\n",
       "      <td>24.99</td>\n",
       "      <td>23.41</td>\n",
       "      <td>158.8</td>\n",
       "      <td>1956</td>\n",
       "      <td>0.1238</td>\n",
       "      <td>0.1866</td>\n",
       "      <td>0.2416</td>\n",
       "      <td>0.186</td>\n",
       "      <td>0.275</td>\n",
       "      <td>0.08902</td>\n",
       "    </tr>\n",
       "    <tr>\n",
       "      <th>84300903</th>\n",
       "      <td>M</td>\n",
       "      <td>19.69</td>\n",
       "      <td>21.25</td>\n",
       "      <td>130</td>\n",
       "      <td>1203</td>\n",
       "      <td>0.1096</td>\n",
       "      <td>0.1599</td>\n",
       "      <td>0.1974</td>\n",
       "      <td>0.1279</td>\n",
       "      <td>0.2069</td>\n",
       "      <td>...</td>\n",
       "      <td>23.57</td>\n",
       "      <td>25.53</td>\n",
       "      <td>152.5</td>\n",
       "      <td>1709</td>\n",
       "      <td>0.1444</td>\n",
       "      <td>0.4245</td>\n",
       "      <td>0.4504</td>\n",
       "      <td>0.243</td>\n",
       "      <td>0.3613</td>\n",
       "      <td>0.08758</td>\n",
       "    </tr>\n",
       "    <tr>\n",
       "      <th>84348301</th>\n",
       "      <td>M</td>\n",
       "      <td>11.42</td>\n",
       "      <td>20.38</td>\n",
       "      <td>77.58</td>\n",
       "      <td>386.1</td>\n",
       "      <td>0.1425</td>\n",
       "      <td>0.2839</td>\n",
       "      <td>0.2414</td>\n",
       "      <td>0.1052</td>\n",
       "      <td>0.2597</td>\n",
       "      <td>...</td>\n",
       "      <td>14.91</td>\n",
       "      <td>26.5</td>\n",
       "      <td>98.87</td>\n",
       "      <td>567.7</td>\n",
       "      <td>0.2098</td>\n",
       "      <td>0.8663</td>\n",
       "      <td>0.6869</td>\n",
       "      <td>0.2575</td>\n",
       "      <td>0.6638</td>\n",
       "      <td>0.173</td>\n",
       "    </tr>\n",
       "    <tr>\n",
       "      <th>84358402</th>\n",
       "      <td>M</td>\n",
       "      <td>20.29</td>\n",
       "      <td>14.34</td>\n",
       "      <td>135.1</td>\n",
       "      <td>1297</td>\n",
       "      <td>0.1003</td>\n",
       "      <td>0.1328</td>\n",
       "      <td>0.198</td>\n",
       "      <td>0.1043</td>\n",
       "      <td>0.1809</td>\n",
       "      <td>...</td>\n",
       "      <td>22.54</td>\n",
       "      <td>16.67</td>\n",
       "      <td>152.2</td>\n",
       "      <td>1575</td>\n",
       "      <td>0.1374</td>\n",
       "      <td>0.205</td>\n",
       "      <td>0.4</td>\n",
       "      <td>0.1625</td>\n",
       "      <td>0.2364</td>\n",
       "      <td>0.07678</td>\n",
       "    </tr>\n",
       "  </tbody>\n",
       "</table>\n",
       "<p>5 rows × 31 columns</p>\n",
       "</div>"
      ],
      "text/plain": [
       "         diagnosis radius-mean texture-mean perimeter-mean area-mean  \\\n",
       "id                                                                     \n",
       "842302           M       17.99        10.38          122.8      1001   \n",
       "842517           M       20.57        17.77          132.9      1326   \n",
       "84300903         M       19.69        21.25            130      1203   \n",
       "84348301         M       11.42        20.38          77.58     386.1   \n",
       "84358402         M       20.29        14.34          135.1      1297   \n",
       "\n",
       "         smoothness-mean compactness-mean concavity-mean concave-points-mean  \\\n",
       "id                                                                             \n",
       "842302            0.1184           0.2776         0.3001              0.1471   \n",
       "842517           0.08474          0.07864         0.0869             0.07017   \n",
       "84300903          0.1096           0.1599         0.1974              0.1279   \n",
       "84348301          0.1425           0.2839         0.2414              0.1052   \n",
       "84358402          0.1003           0.1328          0.198              0.1043   \n",
       "\n",
       "         symmetry-mean  ... radius-largest texture-largest perimeter-largest  \\\n",
       "id                      ...                                                    \n",
       "842302          0.2419  ...          25.38           17.33             184.6   \n",
       "842517          0.1812  ...          24.99           23.41             158.8   \n",
       "84300903        0.2069  ...          23.57           25.53             152.5   \n",
       "84348301        0.2597  ...          14.91            26.5             98.87   \n",
       "84358402        0.1809  ...          22.54           16.67             152.2   \n",
       "\n",
       "         area-largest smoothness-largest compactness-largest  \\\n",
       "id                                                             \n",
       "842302           2019             0.1622              0.6656   \n",
       "842517           1956             0.1238              0.1866   \n",
       "84300903         1709             0.1444              0.4245   \n",
       "84348301        567.7             0.2098              0.8663   \n",
       "84358402         1575             0.1374               0.205   \n",
       "\n",
       "         concavity-largest concave-points-largest symmetry-largest  \\\n",
       "id                                                                   \n",
       "842302              0.7119                 0.2654           0.4601   \n",
       "842517              0.2416                  0.186            0.275   \n",
       "84300903            0.4504                  0.243           0.3613   \n",
       "84348301            0.6869                 0.2575           0.6638   \n",
       "84358402               0.4                 0.1625           0.2364   \n",
       "\n",
       "         fractal-dim-largest  \n",
       "id                            \n",
       "842302                0.1189  \n",
       "842517               0.08902  \n",
       "84300903             0.08758  \n",
       "84348301               0.173  \n",
       "84358402             0.07678  \n",
       "\n",
       "[5 rows x 31 columns]"
      ]
     },
     "execution_count": 7,
     "metadata": {},
     "output_type": "execute_result"
    }
   ],
   "source": [
    "feature_names = [\n",
    "    'radius', 'texture',\n",
    "    'perimeter', 'area',\n",
    "    'smoothness', 'compactness', \n",
    "    'concavity', 'concave-points', \n",
    "    'symmetry', 'fractal-dim',\n",
    "]\n",
    "\n",
    "cols_per_feature = [\n",
    "    'mean',\n",
    "    'std-err',\n",
    "    'largest',\n",
    "]\n",
    "\n",
    "numerical_cols = create_column_names(feature_names, cols_per_feature)\n",
    "assert len(numerical_cols) == 30\n",
    "\n",
    "# add the ID and diagnosis columns\n",
    "columns = ['id', 'diagnosis'] + numerical_cols\n",
    "assert len(columns) == 32\n",
    "print(columns)\n",
    "\n",
    "# set the column names on the dataframe\n",
    "df.columns = columns\n",
    "\n",
    "# let us also set the index to be the 'id' column\n",
    "df.set_index('id', inplace=True)\n",
    "\n",
    "assert len(df) == 569\n",
    "df.head()"
   ]
  },
  {
   "cell_type": "markdown",
   "metadata": {},
   "source": [
    "    Although the data description says there are no missing values, let us confirm this"
   ]
  },
  {
   "cell_type": "code",
   "execution_count": 8,
   "metadata": {},
   "outputs": [],
   "source": [
    "assert not df.isnull().values.any()"
   ]
  },
  {
   "cell_type": "markdown",
   "metadata": {},
   "source": [
    "    While the data says the data is to 4digit precision, we need to confirm the data types we are dealing with. Let us cast all the numerical columns to floats."
   ]
  },
  {
   "cell_type": "code",
   "execution_count": 9,
   "metadata": {},
   "outputs": [],
   "source": [
    "for col in numerical_cols:\n",
    "    df[col] = df[col].astype(float)"
   ]
  },
  {
   "cell_type": "markdown",
   "metadata": {},
   "source": [
    "# Q1. What is the mean, median and standard deviation of the perimeter feature?\n",
    "\n",
    "    Let us calculate the values for all 3 cols first for fun, then show how easy it is with pandas"
   ]
  },
  {
   "cell_type": "code",
   "execution_count": 10,
   "metadata": {},
   "outputs": [],
   "source": [
    "mean_func = lambda x: sum(x) / len(x)\n",
    "\n",
    "def median(x):\n",
    "    sorted_x = sorted(x)\n",
    "    middle = (len(sorted_x) + 1) / 2.\n",
    "    if middle % 1 != 0:\n",
    "        return (sorted_x[int(middle - 0.5)] + sorted_x[int(middle + 0.5)]) / 2.\n",
    "    else:\n",
    "        return sorted_x[int(middle)]\n",
    "    \n",
    "def standard_dev(x):\n",
    "    mean = mean_func(x)\n",
    "    mean_diffs = sum([(x_i - mean)**2 for x_i in x])\n",
    "    return (mean_diffs / len(x))**(1/2)\n"
   ]
  },
  {
   "cell_type": "code",
   "execution_count": 11,
   "metadata": {},
   "outputs": [
    {
     "name": "stdout",
     "output_type": "stream",
     "text": [
      "{'perimeter-largest': {'mean': array([107.26121265]),\n",
      "                       'median': array([97.67]),\n",
      "                       'std': array([33.57300157])},\n",
      " 'perimeter-mean': {'mean': array([91.96903339]),\n",
      "                    'median': array([86.34]),\n",
      "                    'std': array([24.27761929])},\n",
      " 'perimeter-std-err': {'mean': array([2.86605923]),\n",
      "                       'median': array([2.289]),\n",
      "                       'std': array([2.0200771])}}\n"
     ]
    }
   ],
   "source": [
    "# we know there are 3 perimeter columns: permiter-mean, permiter-std-err, permiter-largest\n",
    "perimeter_cols = ['perimeter-mean', 'perimeter-std-err', 'perimeter-largest']\n",
    "descriptives = {}\n",
    "for col in perimeter_cols:\n",
    "    col_vals = df[[col]].values\n",
    "    descriptives[col] = {\n",
    "        'mean': mean_func(col_vals),\n",
    "        'median': median(col_vals),\n",
    "        'std': standard_dev(col_vals)\n",
    "    }\n",
    "pp(descriptives)"
   ]
  },
  {
   "cell_type": "markdown",
   "metadata": {},
   "source": [
    "    Or via pandas..."
   ]
  },
  {
   "cell_type": "code",
   "execution_count": 12,
   "metadata": {},
   "outputs": [
    {
     "name": "stdout",
     "output_type": "stream",
     "text": [
      "('Mean:\\n'\n",
      " 'perimeter-mean        91.969033\\n'\n",
      " 'perimeter-std-err      2.866059\\n'\n",
      " 'perimeter-largest    107.261213\\n'\n",
      " 'dtype: float64')\n",
      "('Median:\\n'\n",
      " 'perimeter-mean       86.240\\n'\n",
      " 'perimeter-std-err     2.287\\n'\n",
      " 'perimeter-largest    97.660\\n'\n",
      " 'dtype: float64')\n",
      "('Std:\\n'\n",
      " 'perimeter-mean       24.298981\\n'\n",
      " 'perimeter-std-err     2.021855\\n'\n",
      " 'perimeter-largest    33.602542\\n'\n",
      " 'dtype: float64')\n"
     ]
    }
   ],
   "source": [
    "pp('Mean:\\n{}'.format(df[perimeter_cols].mean()))\n",
    "pp('Median:\\n{}'.format(df[perimeter_cols].median()))\n",
    "pp('Std:\\n{}'.format(df[perimeter_cols].std()))"
   ]
  },
  {
   "cell_type": "markdown",
   "metadata": {},
   "source": [
    "# Q2. Is the first feature in the dataset \"radius\" normally distributed?"
   ]
  },
  {
   "cell_type": "markdown",
   "metadata": {},
   "source": [
    "Next, let us visualise the distribution of the radius column.\n",
    "\n",
    "    Although we showed the descriptive statistics above for multiple columns, let us just select the mean radius for this.\n",
    "    \n",
    "    Let us vialise the distribution first"
   ]
  },
  {
   "cell_type": "code",
   "execution_count": 13,
   "metadata": {},
   "outputs": [
    {
     "data": {
      "text/plain": [
       "<matplotlib.axes._subplots.AxesSubplot at 0x7f2daa482470>"
      ]
     },
     "execution_count": 13,
     "metadata": {},
     "output_type": "execute_result"
    },
    {
     "data": {
      "image/png": "[encoded data removed]",
      "text/plain": [
       "<Figure size 720x576 with 1 Axes>"
      ]
     },
     "metadata": {
      "needs_background": "light"
     },
     "output_type": "display_data"
    }
   ],
   "source": [
    "# visualise using seaborn\n",
    "\n",
    "radius = df['radius-mean']\n",
    "\n",
    "plt.figure(figsize=(10,8))\n",
    "sns.distplot(radius)\n"
   ]
  },
  {
   "cell_type": "markdown",
   "metadata": {},
   "source": [
    "    The data does not look normally distributed, and instead looks to be positively (right) skewed, but let us use the Shapiro-Wilk test to prove this. "
   ]
  },
  {
   "cell_type": "code",
   "execution_count": 14,
   "metadata": {},
   "outputs": [
    {
     "name": "stdout",
     "output_type": "stream",
     "text": [
      "W=0.9410696029663086, p=3.1061551985026026e-14\n",
      "\n",
      "Data is not normally distributed as p(=3.1061551985026026e-14)<=alpha(=0.05)\n"
     ]
    }
   ],
   "source": [
    "from scipy.stats import shapiro # let us use the conveniently wrapped scipy implementation\n",
    "\n",
    "W, p = shapiro(radius)\n",
    "print('W={}, p={}\\n'.format(W, p))\n",
    "\n",
    "# if the p value is greater than a threshold, alpha (usually ~0.05), we say it is normally distributed\n",
    "alpha = 0.05\n",
    "if p > alpha:\n",
    "      print('Data is normally distributed as p(={})>alpha({})'.format(p, alpha))\n",
    "else:\n",
    "      print('Data is not normally distributed as p(={})<=alpha(={})'.format(p, alpha))\n"
   ]
  },
  {
   "cell_type": "markdown",
   "metadata": {},
   "source": [
    "# Q3. Train and compare the results of 2 classifiers at predicting whether the diagnosis is malignant or benign."
   ]
  },
  {
   "cell_type": "markdown",
   "metadata": {},
   "source": [
    "    From looking at the data description, there are datapoints which are either correlated and/or calculated from other datapoints e.g. compactness is derived from the perimeter and area. We should remove these from the featureset as they will introduce no new information.\n",
    "    \n",
    "    Also, the 'std-err' suffixed columns are not of interest in the classification model as these values are not to do with the tumour, but instead are to do with data collection.\n",
    "    \n",
    "    Finally, the target shall be the 'diagnosis' column."
   ]
  },
  {
   "cell_type": "code",
   "execution_count": 15,
   "metadata": {},
   "outputs": [
    {
     "data": {
      "text/plain": [
       "['radius-mean',\n",
       " 'texture-mean',\n",
       " 'perimeter-mean',\n",
       " 'area-mean',\n",
       " 'smoothness-mean',\n",
       " 'concavity-mean',\n",
       " 'concave-points-mean',\n",
       " 'symmetry-mean',\n",
       " 'fractal-dim-mean',\n",
       " 'radius-largest',\n",
       " 'texture-largest',\n",
       " 'perimeter-largest',\n",
       " 'area-largest',\n",
       " 'smoothness-largest',\n",
       " 'concavity-largest',\n",
       " 'concave-points-largest',\n",
       " 'symmetry-largest',\n",
       " 'fractal-dim-largest']"
      ]
     },
     "execution_count": 15,
     "metadata": {},
     "output_type": "execute_result"
    }
   ],
   "source": [
    "TARGET_COL = 'diagnosis'\n",
    "FEATURE_COL_SUFFIXES = ['-mean', '-largest']\n",
    "EXLCLUDE_COL_PREFIXES = ['compactness']\n",
    "\n",
    "FEATURE_COLS = [col for col in df.columns \n",
    "                if any(col.endswith(suff) for suff in FEATURE_COL_SUFFIXES) \n",
    "                and not any(col.startswith(pref) for pref in EXLCLUDE_COL_PREFIXES) ]\n",
    "FEATURE_COLS"
   ]
  },
  {
   "cell_type": "code",
   "execution_count": 16,
   "metadata": {},
   "outputs": [],
   "source": [
    "# Let us separate the features and target\n",
    "\n",
    "X = df[FEATURE_COLS]\n",
    "y = df[TARGET_COL]\n",
    "assert len(X) == len(y)"
   ]
  },
  {
   "cell_type": "markdown",
   "metadata": {},
   "source": [
    "    It is often good to visualise the data in 2 dimensions to see whether the data appears linearly seperable. \n",
    "    We shall use t-SNE to reduce to 2dims given the low feature dimensions (i.e. computing cost is not a concern)"
   ]
  },
  {
   "cell_type": "code",
   "execution_count": 17,
   "metadata": {},
   "outputs": [],
   "source": [
    "from sklearn.manifold import TSNE\n",
    "\n",
    "def plot_2d(X, labels, title, colours=['pink', 'green',]):\n",
    "    tsne = TSNE(n_components=2, random_state=RANDOM_STATE)\n",
    "\n",
    "    X_2d = tsne.fit_transform(X)\n",
    "    \n",
    "    unique_labels = np.unique(labels)\n",
    "    \n",
    "    plt.figure(figsize=(10,8))\n",
    "    \n",
    "    # iterate through each category and plot them, colouring them using the above colour array\n",
    "    for i, category in enumerate(unique_labels):\n",
    "        points = X_2d[labels == category]\n",
    "        plt.scatter(points[:, 0], points[:, 1], s=30, c=colours[i], label=category)\n",
    "        \n",
    "    plt.title(title,\n",
    "              fontdict=dict(fontsize=16))\n",
    "\n",
    "    plt.legend(loc='best')"
   ]
  },
  {
   "cell_type": "code",
   "execution_count": 18,
   "metadata": {},
   "outputs": [
    {
     "data": {
      "image/png": "[encoded data removed]",
      "text/plain": [
       "<Figure size 720x576 with 1 Axes>"
      ]
     },
     "metadata": {
      "needs_background": "light"
     },
     "output_type": "display_data"
    }
   ],
   "source": [
    "plot_2d(X, y, 't-SNE visualisation')"
   ]
  },
  {
   "cell_type": "markdown",
   "metadata": {},
   "source": [
    "    From the above, we can see that there is a general separation between the benign(B) and malignant(M) records\n"
   ]
  },
  {
   "cell_type": "markdown",
   "metadata": {},
   "source": [
    "    For our classifiers, we shall choose to compare Logistic Regression and a RandomForest classifer. Both of these will allow us to the most significant features which contributed to a positive class.\n",
    "    \n",
    "    First, we must encode our target to {0,1} as the above classifiers are binary classifiers (although the sklearn also implementations employ one-vs-rest for multi-class problems)\n",
    "    In this case, we are interested in identifying whether a tumour is malignant (this has the highest cost), so we shall make this the target"
   ]
  },
  {
   "cell_type": "code",
   "execution_count": 19,
   "metadata": {},
   "outputs": [
    {
     "data": {
      "text/plain": [
       "0    357\n",
       "1    212\n",
       "Name: diagnosis, dtype: int64"
      ]
     },
     "execution_count": 19,
     "metadata": {},
     "output_type": "execute_result"
    }
   ],
   "source": [
    "encoder = lambda x : 1 if x == 'M' else 0 \n",
    "y_enc = y.apply(encoder)\n",
    "\n",
    "y_enc.value_counts()"
   ]
  },
  {
   "cell_type": "markdown",
   "metadata": {},
   "source": [
    "    We have a aprox 2/5 malignent, 3/5 benign\n",
    "    \n",
    "    Next, we will define our classifiers. For this exercise, we will perform some hyperparameter tuning using a combination of grid search and cross validation (the original classifier of the dataset uses 10 fold cross validation).\n",
    "    \n",
    "    As we care most about classifying the positive target (i.e. malignant), we shall use the recall metric as our evaluation metric. Recall is the fraaction of relevant items (i.e. target=1) that have been correctrly classified."
   ]
  },
  {
   "cell_type": "code",
   "execution_count": 20,
   "metadata": {},
   "outputs": [],
   "source": [
    "\n",
    "details = {\n",
    "    'log-reg': {\n",
    "        'clf': LogisticRegression(max_iter=1000, tol=1e-3, penalty='l2', solver='lbfgs', random_state=RANDOM_STATE),\n",
    "        'params': {\n",
    "            'C': np.logspace(-6, -1, 10), # regularisation param. Smaller values specify stronger regularisation\n",
    "        },\n",
    "    },\n",
    "    'rand-forest': {\n",
    "        'clf': RandomForestClassifier(criterion='gini', random_state=RANDOM_STATE, n_jobs=-1),\n",
    "        'params': {\n",
    "            'n_estimators': [int(n) for n in np.linspace(100,500,5)], # number of trees\n",
    "            'max_depth': [int(m) for m in np.linspace(1, 3, 3)], # max depth of the trees\n",
    "        },\n",
    "    },\n",
    "}\n",
    "\n",
    "n_folds = 10"
   ]
  },
  {
   "cell_type": "markdown",
   "metadata": {},
   "source": [
    "    Let us perform the Grid Search + Cross Val first"
   ]
  },
  {
   "cell_type": "code",
   "execution_count": 21,
   "metadata": {},
   "outputs": [
    {
     "name": "stdout",
     "output_type": "stream",
     "text": [
      "Starting Grid Search + CV for log-reg\n",
      "Score: 0.9198113207547169\n",
      "Took 4.5993804931640625s to search param space. Best params are:\n",
      "{'C': 0.007742636826811277}\n",
      "Starting Grid Search + CV for rand-forest\n"
     ]
    },
    {
     "name": "stderr",
     "output_type": "stream",
     "text": [
      "/home/adam/.conda/envs/jpm-interview/lib/python3.6/site-packages/sklearn/model_selection/_search.py:841: DeprecationWarning: The default of the `iid` parameter will change from True to False in version 0.22 and will be removed in 0.24. This will change numeric results when test-set sizes are unequal.\n",
      "  DeprecationWarning)\n",
      "/home/adam/.conda/envs/jpm-interview/lib/python3.6/site-packages/sklearn/model_selection/_search.py:841: DeprecationWarning: The default of the `iid` parameter will change from True to False in version 0.22 and will be removed in 0.24. This will change numeric results when test-set sizes are unequal.\n",
      "  DeprecationWarning)\n"
     ]
    },
    {
     "name": "stdout",
     "output_type": "stream",
     "text": [
      "Score: 0.9433962264150944\n",
      "Took 77.55259299278259s to search param space. Best params are:\n",
      "{'max_depth': 3, 'n_estimators': 200}\n"
     ]
    }
   ],
   "source": [
    "\n",
    "grid_res = {}\n",
    "\n",
    "for clf_name in details:\n",
    "    print('Starting Grid Search + CV for {}'.format(clf_name))\n",
    "    t0 = time()\n",
    "    grid = GridSearchCV(\n",
    "        details[clf_name]['clf'], \n",
    "        details[clf_name]['params'],\n",
    "        scoring='recall',\n",
    "        cv=n_folds,\n",
    "    )\n",
    "    grid.fit(X,y_enc)\n",
    "    \n",
    "    print('Score: {}'.format(grid.score(X,y_enc)))\n",
    "    t1 = time() - t0\n",
    "    \n",
    "    print('Took {}s to search param space. Best params are:\\n{}'.format(t1, grid.best_params_))\n",
    "    \n",
    "    grid_res[clf_name] = grid"
   ]
  },
  {
   "cell_type": "markdown",
   "metadata": {},
   "source": [
    "    Let us visualise the spread for the 10 folds. We will use the best params for this"
   ]
  },
  {
   "cell_type": "code",
   "execution_count": 22,
   "metadata": {},
   "outputs": [],
   "source": [
    "# first, let us train the classifiers using the default params.\n",
    "cv_scores = {\n",
    "    'model_name': [],\n",
    "    'fold_idx': [],\n",
    "    'recalls': [],\n",
    "}\n",
    "\n",
    "clfs = {\n",
    "    'log-reg': LogisticRegression(**grid_res['log-reg'].best_params_, random_state=RANDOM_STATE),\n",
    "    'rand-forest': RandomForestClassifier(**grid_res['rand-forest'].best_params_,  random_state=RANDOM_STATE),\n",
    "}\n",
    "\n",
    "\n",
    "for clf in clfs:\n",
    "    scores = cross_val_score(clfs[clf], X, y_enc, cv=n_folds, scoring='recall', n_jobs=-1)\n",
    "    \n",
    "    cv_scores['model_name'].extend([clf] * n_folds ) \n",
    "    cv_scores['fold_idx'].extend(list(range(n_folds)))\n",
    "    cv_scores['recalls'].extend(scores)\n",
    "\n",
    "    \n",
    "cv_df = pd.DataFrame.from_dict(cv_scores,)"
   ]
  },
  {
   "cell_type": "code",
   "execution_count": 23,
   "metadata": {},
   "outputs": [
    {
     "data": {
      "text/plain": [
       "<matplotlib.axes._subplots.AxesSubplot at 0x7f2da829b160>"
      ]
     },
     "execution_count": 23,
     "metadata": {},
     "output_type": "execute_result"
    },
    {
     "data": {
      "image/png": "[encoded data removed]",
      "text/plain": [
       "<Figure size 720x576 with 1 Axes>"
      ]
     },
     "metadata": {
      "needs_background": "light"
     },
     "output_type": "display_data"
    }
   ],
   "source": [
    "plt.figure(figsize=(10,8))\n",
    "\n",
    "sns.set(font_scale=1.5)\n",
    "sns.boxplot(x='model_name', y='recalls', data=cv_df,)\n",
    "sns.stripplot(x='model_name', y='recalls', data=cv_df, \n",
    "              size=8, jitter=True, edgecolor=\"gray\", linewidth=2)"
   ]
  },
  {
   "cell_type": "code",
   "execution_count": 24,
   "metadata": {},
   "outputs": [
    {
     "name": "stdout",
     "output_type": "stream",
     "text": [
      "Recall score for the best classifier: 0.9433962264150944\n"
     ]
    }
   ],
   "source": [
    "best_clf = RandomForestClassifier(**grid_res['rand-forest'].best_params_,  random_state=RANDOM_STATE)\n",
    "best_clf.fit(X, y_enc)\n",
    "preds = best_clf.predict(X,)\n",
    "print('Recall score for the best classifier: {}'.format(recall_score(y_enc, preds)))"
   ]
  },
  {
   "cell_type": "markdown",
   "metadata": {},
   "source": [
    "# Next steps and Summary\n",
    "\n",
    "    From the above, we can see that the RandomForest with 200 estimators and max depth of 3 is the best performing model.\n",
    "    \n",
    "    We have only tuned 2 of the many hyperparameters for this estimator type, and we could tune more in the hope of reducing the variation of the model's recall.\n",
    "    \n",
    "    We could also try other classifiers such as Support Vector Machines or other ensembles (e.g. Boosted Trees) to see whether this can improve performance over the Random Forest Classifier."
   ]
  }
 ],
 "metadata": {
  "kernelspec": {
   "display_name": "JPM",
   "language": "python",
   "name": "jpm-interview"
  },
  "language_info": {
   "codemirror_mode": {
    "name": "ipython",
    "version": 3
   },
   "file_extension": ".py",
   "mimetype": "text/x-python",
   "name": "python",
   "nbconvert_exporter": "python",
   "pygments_lexer": "ipython3",
   "version": "3.6.8"
  }
 },
 "nbformat": 4,
 "nbformat_minor": 2
}
